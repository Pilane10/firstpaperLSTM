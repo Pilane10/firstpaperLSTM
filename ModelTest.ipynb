{
 "cells": [
  {
   "metadata": {
    "collapsed": true
   },
   "cell_type": "code",
   "source": [
    "import torch\n",
    "import transformers\n",
    "print(torch.cuda.is_available())  # Should return True\n",
    "print(torch.cuda.get_device_name(0))  # Should display your RTX 3050\n",
    "\n",
    "# Print the CUDA version\n",
    "print(torch.version.cuda)\n",
    "print(torch.__version__)\n",
    "print(transformers.__version__)"
   ],
   "id": "initial_id",
   "outputs": [],
   "execution_count": null
  },
  {
   "metadata": {},
   "cell_type": "code",
   "source": "cd BGL",
   "id": "b3ff44a27fa7fc3e",
   "outputs": [],
   "execution_count": null
  },
  {
   "metadata": {},
   "cell_type": "code",
   "source": "!sh init.sh",
   "id": "f8c92f0296009bbe",
   "outputs": [],
   "execution_count": null
  },
  {
   "metadata": {},
   "cell_type": "code",
   "source": "!python3 data_process.py",
   "id": "893f0d5a71d5bb2a",
   "outputs": [],
   "execution_count": null
  },
  {
   "metadata": {},
   "cell_type": "code",
   "source": [
    "#run logbert\n",
    "!python3 logbert.py vocab\n",
    "!python3 logbert.py train\n",
    "!python3 logbert.py predict"
   ],
   "id": "ad8d16f6bd4bf796",
   "outputs": [],
   "execution_count": null
  },
  {
   "metadata": {},
   "cell_type": "code",
   "source": [
    "#run deeplog\n",
    "!python3 deeplog.py vocab\n",
    "# set options[\"vocab_size\"] = <vocab output> above\n",
    "!python3 deeplog.py train\n",
    "!python3 deeplog.py predict"
   ],
   "id": "3faaf49e9b60a6ba",
   "outputs": [],
   "execution_count": null
  },
  {
   "metadata": {},
   "cell_type": "code",
   "source": [
    "#run loganomaly\n",
    "!python3 loganomaly.py vocab\n",
    "# set options[\"vocab_size\"] = <vocab output> above\n",
    "!python3 loganomaly.py train\n",
    "!python3 loganomaly.py predict"
   ],
   "id": "6f6af34411c814f5",
   "outputs": [],
   "execution_count": null
  },
  {
   "metadata": {},
   "cell_type": "code",
   "source": "",
   "id": "215c1efc65dc8db9",
   "outputs": [],
   "execution_count": null
  }
 ],
 "metadata": {
  "kernelspec": {
   "display_name": "Python 3",
   "language": "python",
   "name": "python3"
  },
  "language_info": {
   "codemirror_mode": {
    "name": "ipython",
    "version": 2
   },
   "file_extension": ".py",
   "mimetype": "text/x-python",
   "name": "python",
   "nbconvert_exporter": "python",
   "pygments_lexer": "ipython2",
   "version": "2.7.6"
  }
 },
 "nbformat": 4,
 "nbformat_minor": 5
}
